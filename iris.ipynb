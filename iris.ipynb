{
  "nbformat": 4,
  "nbformat_minor": 0,
  "metadata": {
    "colab": {
      "provenance": [],
      "authorship_tag": "ABX9TyOVatPT+jipgHG2JQESebid",
      "include_colab_link": true
    },
    "kernelspec": {
      "name": "python3",
      "display_name": "Python 3"
    },
    "language_info": {
      "name": "python"
    }
  },
  "cells": [
    {
      "cell_type": "markdown",
      "metadata": {
        "id": "view-in-github",
        "colab_type": "text"
      },
      "source": [
        "<a href=\"https://colab.research.google.com/github/Rajeshwari-11/IrisClassificatioApp/blob/main/iris.ipynb\" target=\"_parent\"><img src=\"https://colab.research.google.com/assets/colab-badge.svg\" alt=\"Open In Colab\"/></a>"
      ]
    },
    {
      "cell_type": "markdown",
      "source": [
        "**Import Libraries:**"
      ],
      "metadata": {
        "id": "dq_C5Mayp-_l"
      }
    },
    {
      "cell_type": "code",
      "source": [
        "import joblib\n",
        "import sklearn\n",
        "\n",
        "print(\"joblib version:\", joblib.__version__)\n",
        "print(\"scikit-learn version:\", sklearn.__version__)\n"
      ],
      "metadata": {
        "colab": {
          "base_uri": "https://localhost:8080/"
        },
        "id": "2fUkXAQlsizH",
        "outputId": "e1605f23-20ac-4fee-f844-5ef438ba4f92"
      },
      "execution_count": null,
      "outputs": [
        {
          "output_type": "stream",
          "name": "stdout",
          "text": [
            "joblib version: 1.3.2\n",
            "scikit-learn version: 1.4.0\n"
          ]
        }
      ]
    },
    {
      "cell_type": "code",
      "execution_count": null,
      "metadata": {
        "id": "Lbv1NfiSm9fl"
      },
      "outputs": [],
      "source": [
        "import numpy as np\n",
        "import pandas as pd\n",
        "import joblib\n",
        "from sklearn.model_selection import train_test_split\n",
        "from sklearn.preprocessing import StandardScaler, label_binarize\n",
        "from sklearn.ensemble import RandomForestClassifier\n",
        "from sklearn.metrics import accuracy_score, classification_report, confusion_matrix, roc_curve, auc, precision_score, recall_score, f1_score\n",
        "import tensorflow as tf\n",
        "from tensorflow.keras.models import Sequential\n",
        "from tensorflow.keras.layers import Dense\n",
        "import matplotlib.pyplot as plt\n",
        "from sklearn.datasets import load_iris"
      ]
    },
    {
      "cell_type": "markdown",
      "source": [
        "**Load Iris Dataset:**"
      ],
      "metadata": {
        "id": "ZBSlVpU3qHZB"
      }
    },
    {
      "cell_type": "code",
      "source": [
        "iris = load_iris()\n",
        "X = iris.data\n",
        "y = iris.target"
      ],
      "metadata": {
        "id": "atXceCrOnJes"
      },
      "execution_count": null,
      "outputs": []
    },
    {
      "cell_type": "markdown",
      "source": [
        "**Split the dataset into training and testing sets:**"
      ],
      "metadata": {
        "id": "XKFjCLO3qM2e"
      }
    },
    {
      "cell_type": "code",
      "source": [
        "X_train, X_test, y_train, y_test = train_test_split(X, y, test_size=0.2, random_state=42)"
      ],
      "metadata": {
        "id": "42ya7OjynLZe"
      },
      "execution_count": null,
      "outputs": []
    },
    {
      "cell_type": "markdown",
      "source": [
        "**Feature Scaling:**"
      ],
      "metadata": {
        "id": "LsyMd9KHqOxD"
      }
    },
    {
      "cell_type": "code",
      "source": [
        "scaler = StandardScaler()\n",
        "X_train_scaled = scaler.fit_transform(X_train)\n",
        "X_test_scaled = scaler.transform(X_test)"
      ],
      "metadata": {
        "id": "O5FRqsg1nNBh"
      },
      "execution_count": null,
      "outputs": []
    },
    {
      "cell_type": "markdown",
      "source": [
        "**Random Forest Classifier:**"
      ],
      "metadata": {
        "id": "7sHzRj_0qT8H"
      }
    },
    {
      "cell_type": "code",
      "source": [
        "rf_classifier = RandomForestClassifier(n_estimators=100, random_state=42)\n",
        "rf_classifier.fit(X_train_scaled, y_train)\n",
        "rf_predictions = rf_classifier.predict(X_test_scaled)"
      ],
      "metadata": {
        "id": "nCf-l3gJnO6N"
      },
      "execution_count": null,
      "outputs": []
    },
    {
      "cell_type": "markdown",
      "source": [
        "**Evaluate Random Forest Model**"
      ],
      "metadata": {
        "id": "Qv0Iaqs8qXSL"
      }
    },
    {
      "cell_type": "code",
      "source": [
        "print(\"Random Forest Classifier Accuracy:\", accuracy_score(y_test, rf_predictions))\n",
        "print(\"Classification Report:\\n\", classification_report(y_test, rf_predictions))"
      ],
      "metadata": {
        "colab": {
          "base_uri": "https://localhost:8080/"
        },
        "id": "wf3kuUbtnRie",
        "outputId": "b074518b-8d0d-47af-97ba-99df69552258"
      },
      "execution_count": null,
      "outputs": [
        {
          "output_type": "stream",
          "name": "stdout",
          "text": [
            "Random Forest Classifier Accuracy: 1.0\n",
            "Classification Report:\n",
            "               precision    recall  f1-score   support\n",
            "\n",
            "           0       1.00      1.00      1.00        10\n",
            "           1       1.00      1.00      1.00         9\n",
            "           2       1.00      1.00      1.00        11\n",
            "\n",
            "    accuracy                           1.00        30\n",
            "   macro avg       1.00      1.00      1.00        30\n",
            "weighted avg       1.00      1.00      1.00        30\n",
            "\n"
          ]
        }
      ]
    },
    {
      "cell_type": "markdown",
      "source": [
        "**Save Random Forest Classifier:**"
      ],
      "metadata": {
        "id": "xJYmnvFHqbCx"
      }
    },
    {
      "cell_type": "code",
      "source": [
        "joblib.dump(rf_classifier, 'random_forest_model.joblib', protocol=4)"
      ],
      "metadata": {
        "id": "V4XiNKiP2k67",
        "colab": {
          "base_uri": "https://localhost:8080/"
        },
        "outputId": "f028b202-262a-4368-db8e-daba9eb14616"
      },
      "execution_count": null,
      "outputs": [
        {
          "output_type": "execute_result",
          "data": {
            "text/plain": [
              "['random_forest_model.joblib']"
            ]
          },
          "metadata": {},
          "execution_count": 18
        }
      ]
    },
    {
      "cell_type": "code",
      "source": [
        "model = Sequential()\n",
        "model.add(Dense(8, input_dim=4, activation='relu'))\n",
        "model.add(Dense(3, activation='softmax'))\n",
        "model.compile(loss='categorical_crossentropy', optimizer='adam', metrics=['accuracy'])"
      ],
      "metadata": {
        "id": "iduiHM9YnT1D"
      },
      "execution_count": null,
      "outputs": []
    },
    {
      "cell_type": "code",
      "source": [
        "y_train_one_hot = tf.keras.utils.to_categorical(y_train, num_classes=3)\n",
        "y_test_one_hot = tf.keras.utils.to_categorical(y_test, num_classes=3)"
      ],
      "metadata": {
        "id": "_WRzzlmCX7SK"
      },
      "execution_count": null,
      "outputs": []
    },
    {
      "cell_type": "markdown",
      "source": [
        "**Train the Neural Network:**"
      ],
      "metadata": {
        "id": "EHJo-7TfqexU"
      }
    },
    {
      "cell_type": "code",
      "source": [
        "model.fit(X_train_scaled, y_train_one_hot, epochs=50, batch_size=8, validation_data=(X_test_scaled, y_test_one_hot))\n"
      ],
      "metadata": {
        "colab": {
          "base_uri": "https://localhost:8080/"
        },
        "id": "tSyYS_-CnVw4",
        "outputId": "c4f79a89-b6ad-4955-9522-87084cf88661"
      },
      "execution_count": null,
      "outputs": [
        {
          "output_type": "stream",
          "name": "stdout",
          "text": [
            "Epoch 1/50\n",
            "15/15 [==============================] - 1s 19ms/step - loss: 1.5056 - accuracy: 0.2250 - val_loss: 1.4239 - val_accuracy: 0.2000\n",
            "Epoch 2/50\n",
            "15/15 [==============================] - 0s 5ms/step - loss: 1.4059 - accuracy: 0.2417 - val_loss: 1.3368 - val_accuracy: 0.2333\n",
            "Epoch 3/50\n",
            "15/15 [==============================] - 0s 4ms/step - loss: 1.3183 - accuracy: 0.2917 - val_loss: 1.2621 - val_accuracy: 0.2667\n",
            "Epoch 4/50\n",
            "15/15 [==============================] - 0s 4ms/step - loss: 1.2425 - accuracy: 0.3167 - val_loss: 1.1975 - val_accuracy: 0.2333\n",
            "Epoch 5/50\n",
            "15/15 [==============================] - 0s 4ms/step - loss: 1.1760 - accuracy: 0.3250 - val_loss: 1.1389 - val_accuracy: 0.2333\n",
            "Epoch 6/50\n",
            "15/15 [==============================] - 0s 4ms/step - loss: 1.1173 - accuracy: 0.3333 - val_loss: 1.0864 - val_accuracy: 0.2333\n",
            "Epoch 7/50\n",
            "15/15 [==============================] - 0s 4ms/step - loss: 1.0646 - accuracy: 0.3167 - val_loss: 1.0396 - val_accuracy: 0.2667\n",
            "Epoch 8/50\n",
            "15/15 [==============================] - 0s 4ms/step - loss: 1.0154 - accuracy: 0.3250 - val_loss: 0.9995 - val_accuracy: 0.2667\n",
            "Epoch 9/50\n",
            "15/15 [==============================] - 0s 5ms/step - loss: 0.9749 - accuracy: 0.3583 - val_loss: 0.9600 - val_accuracy: 0.3667\n",
            "Epoch 10/50\n",
            "15/15 [==============================] - 0s 4ms/step - loss: 0.9337 - accuracy: 0.4667 - val_loss: 0.9265 - val_accuracy: 0.5333\n",
            "Epoch 11/50\n",
            "15/15 [==============================] - 0s 5ms/step - loss: 0.8995 - accuracy: 0.6083 - val_loss: 0.8962 - val_accuracy: 0.5667\n",
            "Epoch 12/50\n",
            "15/15 [==============================] - 0s 5ms/step - loss: 0.8699 - accuracy: 0.6250 - val_loss: 0.8663 - val_accuracy: 0.6333\n",
            "Epoch 13/50\n",
            "15/15 [==============================] - 0s 5ms/step - loss: 0.8397 - accuracy: 0.6417 - val_loss: 0.8412 - val_accuracy: 0.6333\n",
            "Epoch 14/50\n",
            "15/15 [==============================] - 0s 4ms/step - loss: 0.8149 - accuracy: 0.6500 - val_loss: 0.8171 - val_accuracy: 0.6333\n",
            "Epoch 15/50\n",
            "15/15 [==============================] - 0s 4ms/step - loss: 0.7910 - accuracy: 0.6583 - val_loss: 0.7945 - val_accuracy: 0.6333\n",
            "Epoch 16/50\n",
            "15/15 [==============================] - 0s 4ms/step - loss: 0.7689 - accuracy: 0.6667 - val_loss: 0.7732 - val_accuracy: 0.6667\n",
            "Epoch 17/50\n",
            "15/15 [==============================] - 0s 4ms/step - loss: 0.7477 - accuracy: 0.6750 - val_loss: 0.7533 - val_accuracy: 0.7000\n",
            "Epoch 18/50\n",
            "15/15 [==============================] - 0s 4ms/step - loss: 0.7294 - accuracy: 0.6667 - val_loss: 0.7336 - val_accuracy: 0.7000\n",
            "Epoch 19/50\n",
            "15/15 [==============================] - 0s 4ms/step - loss: 0.7111 - accuracy: 0.6750 - val_loss: 0.7169 - val_accuracy: 0.7000\n",
            "Epoch 20/50\n",
            "15/15 [==============================] - 0s 4ms/step - loss: 0.6947 - accuracy: 0.6667 - val_loss: 0.6995 - val_accuracy: 0.7000\n",
            "Epoch 21/50\n",
            "15/15 [==============================] - 0s 5ms/step - loss: 0.6788 - accuracy: 0.7000 - val_loss: 0.6836 - val_accuracy: 0.7000\n",
            "Epoch 22/50\n",
            "15/15 [==============================] - 0s 5ms/step - loss: 0.6639 - accuracy: 0.7083 - val_loss: 0.6686 - val_accuracy: 0.7000\n",
            "Epoch 23/50\n",
            "15/15 [==============================] - 0s 4ms/step - loss: 0.6501 - accuracy: 0.7167 - val_loss: 0.6536 - val_accuracy: 0.7000\n",
            "Epoch 24/50\n",
            "15/15 [==============================] - 0s 5ms/step - loss: 0.6366 - accuracy: 0.7333 - val_loss: 0.6392 - val_accuracy: 0.6667\n",
            "Epoch 25/50\n",
            "15/15 [==============================] - 0s 7ms/step - loss: 0.6239 - accuracy: 0.7500 - val_loss: 0.6258 - val_accuracy: 0.6667\n",
            "Epoch 26/50\n",
            "15/15 [==============================] - 0s 6ms/step - loss: 0.6114 - accuracy: 0.7667 - val_loss: 0.6127 - val_accuracy: 0.6667\n",
            "Epoch 27/50\n",
            "15/15 [==============================] - 0s 7ms/step - loss: 0.5998 - accuracy: 0.7583 - val_loss: 0.5990 - val_accuracy: 0.7333\n",
            "Epoch 28/50\n",
            "15/15 [==============================] - 0s 7ms/step - loss: 0.5877 - accuracy: 0.7417 - val_loss: 0.5859 - val_accuracy: 0.7667\n",
            "Epoch 29/50\n",
            "15/15 [==============================] - 0s 7ms/step - loss: 0.5763 - accuracy: 0.7583 - val_loss: 0.5726 - val_accuracy: 0.7667\n",
            "Epoch 30/50\n",
            "15/15 [==============================] - 0s 6ms/step - loss: 0.5643 - accuracy: 0.7583 - val_loss: 0.5600 - val_accuracy: 0.8333\n",
            "Epoch 31/50\n",
            "15/15 [==============================] - 0s 5ms/step - loss: 0.5537 - accuracy: 0.7667 - val_loss: 0.5461 - val_accuracy: 0.8000\n",
            "Epoch 32/50\n",
            "15/15 [==============================] - 0s 6ms/step - loss: 0.5413 - accuracy: 0.7833 - val_loss: 0.5343 - val_accuracy: 0.8000\n",
            "Epoch 33/50\n",
            "15/15 [==============================] - 0s 6ms/step - loss: 0.5304 - accuracy: 0.8250 - val_loss: 0.5215 - val_accuracy: 0.8333\n",
            "Epoch 34/50\n",
            "15/15 [==============================] - 0s 7ms/step - loss: 0.5186 - accuracy: 0.8333 - val_loss: 0.5079 - val_accuracy: 0.8333\n",
            "Epoch 35/50\n",
            "15/15 [==============================] - 0s 8ms/step - loss: 0.5065 - accuracy: 0.8333 - val_loss: 0.4952 - val_accuracy: 0.8333\n",
            "Epoch 36/50\n",
            "15/15 [==============================] - 0s 7ms/step - loss: 0.4956 - accuracy: 0.8417 - val_loss: 0.4813 - val_accuracy: 0.8333\n",
            "Epoch 37/50\n",
            "15/15 [==============================] - 0s 7ms/step - loss: 0.4847 - accuracy: 0.8333 - val_loss: 0.4679 - val_accuracy: 0.8333\n",
            "Epoch 38/50\n",
            "15/15 [==============================] - 0s 7ms/step - loss: 0.4732 - accuracy: 0.8333 - val_loss: 0.4562 - val_accuracy: 0.8667\n",
            "Epoch 39/50\n",
            "15/15 [==============================] - 0s 7ms/step - loss: 0.4635 - accuracy: 0.8333 - val_loss: 0.4434 - val_accuracy: 0.8667\n",
            "Epoch 40/50\n",
            "15/15 [==============================] - 0s 6ms/step - loss: 0.4526 - accuracy: 0.8333 - val_loss: 0.4329 - val_accuracy: 0.8667\n",
            "Epoch 41/50\n",
            "15/15 [==============================] - 0s 7ms/step - loss: 0.4440 - accuracy: 0.8333 - val_loss: 0.4225 - val_accuracy: 0.8667\n",
            "Epoch 42/50\n",
            "15/15 [==============================] - 0s 7ms/step - loss: 0.4344 - accuracy: 0.8333 - val_loss: 0.4115 - val_accuracy: 0.8667\n",
            "Epoch 43/50\n",
            "15/15 [==============================] - 0s 8ms/step - loss: 0.4252 - accuracy: 0.8333 - val_loss: 0.4026 - val_accuracy: 0.8667\n",
            "Epoch 44/50\n",
            "15/15 [==============================] - 0s 8ms/step - loss: 0.4174 - accuracy: 0.8417 - val_loss: 0.3921 - val_accuracy: 0.8667\n",
            "Epoch 45/50\n",
            "15/15 [==============================] - 0s 7ms/step - loss: 0.4092 - accuracy: 0.8417 - val_loss: 0.3830 - val_accuracy: 0.8667\n",
            "Epoch 46/50\n",
            "15/15 [==============================] - 0s 7ms/step - loss: 0.4013 - accuracy: 0.8417 - val_loss: 0.3750 - val_accuracy: 0.8667\n",
            "Epoch 47/50\n",
            "15/15 [==============================] - 0s 5ms/step - loss: 0.3941 - accuracy: 0.8417 - val_loss: 0.3670 - val_accuracy: 0.8667\n",
            "Epoch 48/50\n",
            "15/15 [==============================] - 0s 5ms/step - loss: 0.3877 - accuracy: 0.8500 - val_loss: 0.3594 - val_accuracy: 0.8667\n",
            "Epoch 49/50\n",
            "15/15 [==============================] - 0s 4ms/step - loss: 0.3810 - accuracy: 0.8500 - val_loss: 0.3522 - val_accuracy: 0.8667\n",
            "Epoch 50/50\n",
            "15/15 [==============================] - 0s 5ms/step - loss: 0.3748 - accuracy: 0.8500 - val_loss: 0.3454 - val_accuracy: 0.8667\n"
          ]
        },
        {
          "output_type": "execute_result",
          "data": {
            "text/plain": [
              "<keras.src.callbacks.History at 0x7ec04cd1cd60>"
            ]
          },
          "metadata": {},
          "execution_count": 12
        }
      ]
    },
    {
      "cell_type": "markdown",
      "source": [
        "**Evaluate Neural Network Model:**"
      ],
      "metadata": {
        "id": "XyPt6Y0wqiYZ"
      }
    },
    {
      "cell_type": "code",
      "source": [
        "nn_predictions = np.argmax(model.predict(X_test_scaled), axis=-1)\n",
        "print(\"Neural Network Accuracy:\", accuracy_score(y_test, nn_predictions))\n",
        "print(\"Classification Report:\\n\", classification_report(y_test, nn_predictions))"
      ],
      "metadata": {
        "colab": {
          "base_uri": "https://localhost:8080/"
        },
        "id": "jR2r7SQanoIw",
        "outputId": "86b546ef-7cc6-48e6-ded4-25501ec7f724"
      },
      "execution_count": null,
      "outputs": [
        {
          "output_type": "stream",
          "name": "stdout",
          "text": [
            "1/1 [==============================] - 0s 83ms/step\n",
            "Neural Network Accuracy: 0.8666666666666667\n",
            "Classification Report:\n",
            "               precision    recall  f1-score   support\n",
            "\n",
            "           0       1.00      1.00      1.00        10\n",
            "           1       1.00      0.56      0.71         9\n",
            "           2       0.73      1.00      0.85        11\n",
            "\n",
            "    accuracy                           0.87        30\n",
            "   macro avg       0.91      0.85      0.85        30\n",
            "weighted avg       0.90      0.87      0.86        30\n",
            "\n"
          ]
        }
      ]
    },
    {
      "cell_type": "code",
      "source": [
        "# Save Neural Network Model\n",
        "model.save('neural_network_model.h5')"
      ],
      "metadata": {
        "colab": {
          "base_uri": "https://localhost:8080/"
        },
        "id": "NCdH1L6wYMhF",
        "outputId": "2d8cbbab-058f-4f7f-bb18-1274271da2fd"
      },
      "execution_count": null,
      "outputs": [
        {
          "output_type": "stream",
          "name": "stderr",
          "text": [
            "/usr/local/lib/python3.10/dist-packages/keras/src/engine/training.py:3103: UserWarning: You are saving your model as an HDF5 file via `model.save()`. This file format is considered legacy. We recommend using instead the native Keras format, e.g. `model.save('my_model.keras')`.\n",
            "  saving_api.save_model(\n"
          ]
        }
      ]
    },
    {
      "cell_type": "code",
      "source": [
        "# Save the StandardScaler for feature scaling\n",
        "joblib.dump(scaler, 'feature_scaler.joblib')"
      ],
      "metadata": {
        "colab": {
          "base_uri": "https://localhost:8080/"
        },
        "id": "3xf9QJnLYPU2",
        "outputId": "5aabc66b-1b18-4d69-adc0-2269ba469bcd"
      },
      "execution_count": null,
      "outputs": [
        {
          "output_type": "execute_result",
          "data": {
            "text/plain": [
              "['feature_scaler.joblib']"
            ]
          },
          "metadata": {},
          "execution_count": 15
        }
      ]
    },
    {
      "cell_type": "code",
      "source": [
        "plt.figure(figsize=(8, 6))\n",
        "conf_matrix_rf = confusion_matrix(y_test, rf_predictions)\n",
        "plt.imshow(conf_matrix_rf, interpolation='nearest', cmap=plt.cm.Blues)\n",
        "plt.title('Confusion Matrix - Random Forest Classifier')\n",
        "plt.colorbar()\n",
        "plt.xlabel('Predicted Label')\n",
        "plt.ylabel('True Label')\n",
        "plt.show()"
      ],
      "metadata": {
        "colab": {
          "base_uri": "https://localhost:8080/",
          "height": 564
        },
        "id": "hnGC85uaYSH6",
        "outputId": "84045e2b-0986-4357-ab59-4c6cd7452905"
      },
      "execution_count": null,
      "outputs": [
        {
          "output_type": "display_data",
          "data": {
            "text/plain": [
              "<Figure size 800x600 with 2 Axes>"
            ],
            "image/png": "[encoded data removed]"
          },
          "metadata": {}
        }
      ]
    },
    {
      "cell_type": "code",
      "source": [
        "plt.figure(figsize=(8, 6))\n",
        "conf_matrix_nn = confusion_matrix(y_test, nn_predictions)\n",
        "plt.imshow(conf_matrix_nn, interpolation='nearest', cmap=plt.cm.Blues)\n",
        "plt.title('Confusion Matrix - Neural Network Model')\n",
        "plt.colorbar()\n",
        "plt.xlabel('Predicted Label')\n",
        "plt.ylabel('True Label')\n",
        "plt.show()"
      ],
      "metadata": {
        "colab": {
          "base_uri": "https://localhost:8080/",
          "height": 564
        },
        "id": "PeyiKaFbYUvp",
        "outputId": "18477acf-8b45-444f-a2f7-71a6a2161601"
      },
      "execution_count": null,
      "outputs": [
        {
          "output_type": "display_data",
          "data": {
            "text/plain": [
              "<Figure size 800x600 with 2 Axes>"
            ],
            "image/png": "[encoded data removed]"
          },
          "metadata": {}
        }
      ]
    }
  ]
}